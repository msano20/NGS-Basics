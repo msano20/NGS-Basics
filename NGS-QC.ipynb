{
 "cells": [
  {
   "cell_type": "markdown",
   "id": "863e7096-cc2c-4715-88a8-79f94bb7c4e2",
   "metadata": {},
   "source": [
    "Content and data courtesy of https://genomics.sschmeier.com/"
   ]
  },
  {
   "cell_type": "markdown",
   "id": "1246a2f3-8d6c-4fcd-bee5-8f1bae822991",
   "metadata": {},
   "source": [
    "Basic file/sequence analysis\\\n",
    "We are working with fastq files. Each file contains sequences, which are composed of four lines - the identifier, the sequence, and a separator (+). "
   ]
  },
  {
   "cell_type": "code",
   "execution_count": 1,
   "id": "5d6b9258-2ec9-4fdf-8ba2-a7f241784374",
   "metadata": {},
   "outputs": [
    {
     "name": "stdout",
     "output_type": "stream",
     "text": [
      "anc_R1.fastq.gz: 281748 sequences\n",
      "anc_R2.fastq.gz: 281748 sequences\n",
      "evol1_R1.fastq.gz: 988653 sequences\n",
      "evol1_R2.fastq.gz: 988653 sequences\n",
      "evol2_R1.fastq.gz: 926261 sequences\n",
      "evol2_R2.fastq.gz: 926261 sequences\n"
     ]
    }
   ],
   "source": [
    "%%bash\n",
    "## Count sequences\n",
    "cd analysis/data\n",
    "for file in *.fastq.gz\n",
    "do\n",
    "  count=$(zcat \"$file\" | wc -l | awk '{print $1/4}')\n",
    "  echo \"$file: $count sequences\"\n",
    "done\n"
   ]
  },
  {
   "cell_type": "markdown",
   "id": "c12c2f41-94f8-4b2d-8063-e57bdb308a29",
   "metadata": {},
   "source": [
    "This sequencing run did not use PhiX, so no removal is necessary"
   ]
  },
  {
   "cell_type": "markdown",
   "id": "1d8f9715-2600-4557-bb94-6552c4ca2780",
   "metadata": {},
   "source": [
    "<h3> Adapter trimming </h3>\n",
    "We will be using fastp for trimming. This involves the removal of the exogenous adapter sequences."
   ]
  },
  {
   "cell_type": "code",
   "execution_count": 4,
   "id": "9f284b2c-89c2-4630-a530-23fbee2eefe3",
   "metadata": {},
   "outputs": [
    {
     "name": "stdout",
     "output_type": "stream",
     "text": [
      "data\n",
      "ngs-tutorial\n",
      "trimmed\n"
     ]
    },
    {
     "name": "stderr",
     "output_type": "stream",
     "text": [
      "Detecting adapter sequence for read1...\n",
      "No adapter detected for read1\n",
      "\n",
      "Detecting adapter sequence for read2...\n",
      "No adapter detected for read2\n",
      "\n",
      "Read1 before filtering:\n",
      "total reads: 281748\n",
      "total bases: 37625783\n",
      "Q20 bases: 35813651(95.1838%)\n",
      "Q30 bases: 33016386(87.7494%)\n",
      "\n",
      "Read2 before filtering:\n",
      "total reads: 281748\n",
      "total bases: 37616928\n",
      "Q20 bases: 35254581(93.72%)\n",
      "Q30 bases: 32356901(86.0169%)\n",
      "\n",
      "Read1 after filtering:\n",
      "total reads: 266340\n",
      "total bases: 34010216\n",
      "Q20 bases: 33090965(97.2971%)\n",
      "Q30 bases: 30885104(90.8113%)\n",
      "\n",
      "Read2 after filtering:\n",
      "total reads: 266340\n",
      "total bases: 32927340\n",
      "Q20 bases: 31917769(96.9339%)\n",
      "Q30 bases: 29800717(90.5045%)\n",
      "\n",
      "Filtering result:\n",
      "reads passed filter: 532680\n",
      "reads failed due to low quality: 396\n",
      "reads failed due to too many N: 2\n",
      "reads failed due to too short: 30418\n",
      "reads with adapter trimmed: 1534\n",
      "bases trimmed due to adapters: 49193\n",
      "reads corrected by overlap analysis: 18866\n",
      "bases corrected by overlap analysis: 21173\n",
      "\n",
      "Duplication rate: 0.568593%\n",
      "\n",
      "Insert size peak (evaluated by paired-end reads): 149\n",
      "\n",
      "JSON report: trimmed/anc.fastp.json\n",
      "HTML report: trimmed/anc.fastp.html\n",
      "\n",
      "fastp --detect_adapter_for_pe --overrepresentation_analysis --correction --cut_right --thread 2 --html trimmed/anc.fastp.html --json trimmed/anc.fastp.json -i data/anc_R1.fastq.gz -I data/anc_R2.fastq.gz -o trimmed/anc_R1.fastq.gz -O trimmed/anc_R2.fastq.gz \n",
      "fastp v0.23.4, time used: 26 seconds\n",
      "Detecting adapter sequence for read1...\n",
      "No adapter detected for read1\n",
      "\n",
      "Detecting adapter sequence for read2...\n",
      "No adapter detected for read2\n",
      "\n",
      "Read1 before filtering:\n",
      "total reads: 988653\n",
      "total bases: 139351715\n",
      "Q20 bases: 123718863(88.7817%)\n",
      "Q30 bases: 107171002(76.9068%)\n",
      "\n",
      "Read2 before filtering:\n",
      "total reads: 988653\n",
      "total bases: 139478526\n",
      "Q20 bases: 121133384(86.8473%)\n",
      "Q30 bases: 105582308(75.6979%)\n",
      "\n",
      "Read1 after filtering:\n",
      "total reads: 840921\n",
      "total bases: 100391282\n",
      "Q20 bases: 94527015(94.1586%)\n",
      "Q30 bases: 84638358(84.3085%)\n",
      "\n",
      "Read2 after filtering:\n",
      "total reads: 840921\n",
      "total bases: 96219336\n",
      "Q20 bases: 90741084(94.3065%)\n",
      "Q30 bases: 82263241(85.4955%)\n",
      "\n",
      "Filtering result:\n",
      "reads passed filter: 1681842\n",
      "reads failed due to low quality: 4682\n",
      "reads failed due to too many N: 0\n",
      "reads failed due to too short: 290782\n",
      "reads with adapter trimmed: 20176\n",
      "bases trimmed due to adapters: 720984\n",
      "reads corrected by overlap analysis: 208065\n",
      "bases corrected by overlap analysis: 256162\n",
      "\n",
      "Duplication rate: 0.240529%\n",
      "\n",
      "Insert size peak (evaluated by paired-end reads): 1\n",
      "\n",
      "JSON report: trimmed/evol1.fastp.json\n",
      "HTML report: trimmed/evol1.fastp.html\n",
      "\n",
      "fastp --detect_adapter_for_pe --overrepresentation_analysis --correction --cut_right --thread 2 --html trimmed/evol1.fastp.html --json trimmed/evol1.fastp.json -i data/evol1_R1.fastq.gz -I data/evol1_R2.fastq.gz -o trimmed/evol1_R1.fastq.gz -O trimmed/evol1_R2.fastq.gz \n",
      "fastp v0.23.4, time used: 29 seconds\n",
      "Detecting adapter sequence for read1...\n",
      "No adapter detected for read1\n",
      "\n",
      "Detecting adapter sequence for read2...\n",
      "No adapter detected for read2\n",
      "\n",
      "Read1 before filtering:\n",
      "total reads: 926261\n",
      "total bases: 133919750\n",
      "Q20 bases: 118713225(88.645%)\n",
      "Q30 bases: 102620033(76.628%)\n",
      "\n",
      "Read2 before filtering:\n",
      "total reads: 926261\n",
      "total bases: 133994643\n",
      "Q20 bases: 115714441(86.3575%)\n",
      "Q30 bases: 100419975(74.9433%)\n",
      "\n",
      "Read1 after filtering:\n",
      "total reads: 784153\n",
      "total bases: 95659648\n",
      "Q20 bases: 89875242(93.9531%)\n",
      "Q30 bases: 80308380(83.9522%)\n",
      "\n",
      "Read2 after filtering:\n",
      "total reads: 784153\n",
      "total bases: 90683557\n",
      "Q20 bases: 85251407(94.0098%)\n",
      "Q30 bases: 77049672(84.9654%)\n",
      "\n",
      "Filtering result:\n",
      "reads passed filter: 1568306\n",
      "reads failed due to low quality: 4340\n",
      "reads failed due to too many N: 4\n",
      "reads failed due to too short: 279872\n",
      "reads with adapter trimmed: 15946\n",
      "bases trimmed due to adapters: 656040\n",
      "reads corrected by overlap analysis: 153333\n",
      "bases corrected by overlap analysis: 187231\n",
      "\n",
      "Duplication rate: 0.18321%\n",
      "\n",
      "Insert size peak (evaluated by paired-end reads): 1\n",
      "\n",
      "JSON report: trimmed/evol2.fastp.json\n",
      "HTML report: trimmed/evol2.fastp.html\n",
      "\n",
      "fastp --detect_adapter_for_pe --overrepresentation_analysis --correction --cut_right --thread 2 --html trimmed/evol2.fastp.html --json trimmed/evol2.fastp.json -i data/evol2_R1.fastq.gz -I data/evol2_R2.fastq.gz -o trimmed/evol2_R1.fastq.gz -O trimmed/evol2_R2.fastq.gz \n",
      "fastp v0.23.4, time used: 30 seconds\n"
     ]
    }
   ],
   "source": [
    "%%bash\n",
    "# activate env\n",
    "source activate base\n",
    "conda activate qc\n",
    "\n",
    "## fastp\n",
    "cd analysis\n",
    "ls\n",
    "mkdir -p trimmed\n",
    "\n",
    "## ancestral samples\n",
    "fastp --detect_adapter_for_pe\\\n",
    "        --overrepresentation_analysis\\\n",
    "        --correction --cut_right --thread 2\\\n",
    "        --html trimmed/anc.fastp.html --json trimmed/anc.fastp.json\\\n",
    "        -i data/anc_R1.fastq.gz -I data/anc_R2.fastq.gz\\\n",
    "        -o trimmed/anc_R1.fastq.gz -O trimmed/anc_R2.fastq.gz\\\n",
    "\n",
    "## Evolved samples \n",
    "fastp --detect_adapter_for_pe\\\n",
    "        --overrepresentation_analysis\\\n",
    "        --correction --cut_right --thread 2\\\n",
    "        --html trimmed/evol1.fastp.html --json trimmed/evol1.fastp.json\\\n",
    "        -i data/evol1_R1.fastq.gz -I data/evol1_R2.fastq.gz\\\n",
    "        -o trimmed/evol1_R1.fastq.gz -O trimmed/evol1_R2.fastq.gz\\\n",
    "\n",
    "fastp --detect_adapter_for_pe\\\n",
    "        --overrepresentation_analysis\\\n",
    "        --correction --cut_right --thread 2\\\n",
    "        --html trimmed/evol2.fastp.html --json trimmed/evol2.fastp.json\\\n",
    "        -i data/evol2_R1.fastq.gz -I data/evol2_R2.fastq.gz\\\n",
    "        -o trimmed/evol2_R1.fastq.gz -O trimmed/evol2_R2.fastq.gz\\\n"
   ]
  },
  {
   "cell_type": "markdown",
   "id": "6a27b377-dca3-43a7-8cff-b5058e5a1ee6",
   "metadata": {},
   "source": [
    "<h3> FastQC and MultiQC </h3>"
   ]
  },
  {
   "cell_type": "code",
   "execution_count": 37,
   "id": "b491bf07-385f-42f9-88fa-1bcf4d727212",
   "metadata": {},
   "outputs": [
    {
     "name": "stdout",
     "output_type": "stream",
     "text": [
      "trimmed/anc_R1.fastq.gz\n",
      "application/gzip\n"
     ]
    },
    {
     "name": "stderr",
     "output_type": "stream",
     "text": [
      "Started analysis of anc_R1.fastq.gz\n",
      "Approx 5% complete for anc_R1.fastq.gz\n",
      "Approx 10% complete for anc_R1.fastq.gz\n",
      "Approx 15% complete for anc_R1.fastq.gz\n",
      "Approx 20% complete for anc_R1.fastq.gz\n",
      "Approx 25% complete for anc_R1.fastq.gz\n",
      "Approx 30% complete for anc_R1.fastq.gz\n",
      "Approx 35% complete for anc_R1.fastq.gz\n",
      "Approx 40% complete for anc_R1.fastq.gz\n",
      "Approx 45% complete for anc_R1.fastq.gz\n",
      "Approx 50% complete for anc_R1.fastq.gz\n",
      "Approx 55% complete for anc_R1.fastq.gz\n",
      "Approx 60% complete for anc_R1.fastq.gz\n",
      "Approx 65% complete for anc_R1.fastq.gz\n",
      "Approx 70% complete for anc_R1.fastq.gz\n",
      "Approx 75% complete for anc_R1.fastq.gz\n",
      "Approx 80% complete for anc_R1.fastq.gz\n",
      "Approx 85% complete for anc_R1.fastq.gz\n",
      "Approx 90% complete for anc_R1.fastq.gz\n",
      "Approx 95% complete for anc_R1.fastq.gz\n"
     ]
    },
    {
     "name": "stdout",
     "output_type": "stream",
     "text": [
      "Analysis complete for anc_R1.fastq.gz\n",
      "trimmed/anc_R2.fastq.gz\n",
      "application/gzip\n"
     ]
    },
    {
     "name": "stderr",
     "output_type": "stream",
     "text": [
      "Started analysis of anc_R2.fastq.gz\n",
      "Approx 5% complete for anc_R2.fastq.gz\n",
      "Approx 10% complete for anc_R2.fastq.gz\n",
      "Approx 15% complete for anc_R2.fastq.gz\n",
      "Approx 20% complete for anc_R2.fastq.gz\n",
      "Approx 25% complete for anc_R2.fastq.gz\n",
      "Approx 30% complete for anc_R2.fastq.gz\n",
      "Approx 35% complete for anc_R2.fastq.gz\n",
      "Approx 40% complete for anc_R2.fastq.gz\n",
      "Approx 45% complete for anc_R2.fastq.gz\n",
      "Approx 50% complete for anc_R2.fastq.gz\n",
      "Approx 55% complete for anc_R2.fastq.gz\n",
      "Approx 60% complete for anc_R2.fastq.gz\n",
      "Approx 65% complete for anc_R2.fastq.gz\n",
      "Approx 70% complete for anc_R2.fastq.gz\n",
      "Approx 75% complete for anc_R2.fastq.gz\n",
      "Approx 80% complete for anc_R2.fastq.gz\n",
      "Approx 85% complete for anc_R2.fastq.gz\n",
      "Approx 90% complete for anc_R2.fastq.gz\n",
      "Approx 95% complete for anc_R2.fastq.gz\n"
     ]
    },
    {
     "name": "stdout",
     "output_type": "stream",
     "text": [
      "Analysis complete for anc_R2.fastq.gz\n",
      "trimmed/evol1_R1.fastq.gz\n",
      "application/gzip\n"
     ]
    },
    {
     "name": "stderr",
     "output_type": "stream",
     "text": [
      "Started analysis of evol1_R1.fastq.gz\n",
      "Approx 5% complete for evol1_R1.fastq.gz\n",
      "Approx 10% complete for evol1_R1.fastq.gz\n",
      "Approx 15% complete for evol1_R1.fastq.gz\n",
      "Approx 20% complete for evol1_R1.fastq.gz\n",
      "Approx 25% complete for evol1_R1.fastq.gz\n",
      "Approx 30% complete for evol1_R1.fastq.gz\n",
      "Approx 35% complete for evol1_R1.fastq.gz\n",
      "Approx 40% complete for evol1_R1.fastq.gz\n",
      "Approx 45% complete for evol1_R1.fastq.gz\n",
      "Approx 50% complete for evol1_R1.fastq.gz\n",
      "Approx 55% complete for evol1_R1.fastq.gz\n",
      "Approx 60% complete for evol1_R1.fastq.gz\n",
      "Approx 65% complete for evol1_R1.fastq.gz\n",
      "Approx 70% complete for evol1_R1.fastq.gz\n",
      "Approx 75% complete for evol1_R1.fastq.gz\n",
      "Approx 80% complete for evol1_R1.fastq.gz\n",
      "Approx 85% complete for evol1_R1.fastq.gz\n",
      "Approx 90% complete for evol1_R1.fastq.gz\n",
      "Approx 95% complete for evol1_R1.fastq.gz\n"
     ]
    },
    {
     "name": "stdout",
     "output_type": "stream",
     "text": [
      "Analysis complete for evol1_R1.fastq.gz\n",
      "trimmed/evol1_R2.fastq.gz\n",
      "application/gzip\n"
     ]
    },
    {
     "name": "stderr",
     "output_type": "stream",
     "text": [
      "Started analysis of evol1_R2.fastq.gz\n",
      "Approx 5% complete for evol1_R2.fastq.gz\n",
      "Approx 10% complete for evol1_R2.fastq.gz\n",
      "Approx 15% complete for evol1_R2.fastq.gz\n",
      "Approx 20% complete for evol1_R2.fastq.gz\n",
      "Approx 25% complete for evol1_R2.fastq.gz\n",
      "Approx 30% complete for evol1_R2.fastq.gz\n",
      "Approx 35% complete for evol1_R2.fastq.gz\n",
      "Approx 40% complete for evol1_R2.fastq.gz\n",
      "Approx 45% complete for evol1_R2.fastq.gz\n",
      "Approx 50% complete for evol1_R2.fastq.gz\n",
      "Approx 55% complete for evol1_R2.fastq.gz\n",
      "Approx 60% complete for evol1_R2.fastq.gz\n",
      "Approx 65% complete for evol1_R2.fastq.gz\n",
      "Approx 70% complete for evol1_R2.fastq.gz\n",
      "Approx 75% complete for evol1_R2.fastq.gz\n",
      "Approx 80% complete for evol1_R2.fastq.gz\n",
      "Approx 85% complete for evol1_R2.fastq.gz\n",
      "Approx 90% complete for evol1_R2.fastq.gz\n",
      "Approx 95% complete for evol1_R2.fastq.gz\n"
     ]
    },
    {
     "name": "stdout",
     "output_type": "stream",
     "text": [
      "Analysis complete for evol1_R2.fastq.gz\n",
      "trimmed/evol2_R1.fastq.gz\n",
      "application/gzip\n"
     ]
    },
    {
     "name": "stderr",
     "output_type": "stream",
     "text": [
      "Started analysis of evol2_R1.fastq.gz\n",
      "Approx 5% complete for evol2_R1.fastq.gz\n",
      "Approx 10% complete for evol2_R1.fastq.gz\n",
      "Approx 15% complete for evol2_R1.fastq.gz\n",
      "Approx 20% complete for evol2_R1.fastq.gz\n",
      "Approx 25% complete for evol2_R1.fastq.gz\n",
      "Approx 30% complete for evol2_R1.fastq.gz\n",
      "Approx 35% complete for evol2_R1.fastq.gz\n",
      "Approx 40% complete for evol2_R1.fastq.gz\n",
      "Approx 45% complete for evol2_R1.fastq.gz\n",
      "Approx 50% complete for evol2_R1.fastq.gz\n",
      "Approx 55% complete for evol2_R1.fastq.gz\n",
      "Approx 60% complete for evol2_R1.fastq.gz\n",
      "Approx 65% complete for evol2_R1.fastq.gz\n",
      "Approx 70% complete for evol2_R1.fastq.gz\n",
      "Approx 75% complete for evol2_R1.fastq.gz\n",
      "Approx 80% complete for evol2_R1.fastq.gz\n",
      "Approx 85% complete for evol2_R1.fastq.gz\n",
      "Approx 90% complete for evol2_R1.fastq.gz\n",
      "Approx 95% complete for evol2_R1.fastq.gz\n"
     ]
    },
    {
     "name": "stdout",
     "output_type": "stream",
     "text": [
      "Analysis complete for evol2_R1.fastq.gz\n",
      "trimmed/evol2_R2.fastq.gz\n",
      "application/gzip\n"
     ]
    },
    {
     "name": "stderr",
     "output_type": "stream",
     "text": [
      "Started analysis of evol2_R2.fastq.gz\n",
      "Approx 5% complete for evol2_R2.fastq.gz\n",
      "Approx 10% complete for evol2_R2.fastq.gz\n",
      "Approx 15% complete for evol2_R2.fastq.gz\n",
      "Approx 20% complete for evol2_R2.fastq.gz\n",
      "Approx 25% complete for evol2_R2.fastq.gz\n",
      "Approx 30% complete for evol2_R2.fastq.gz\n",
      "Approx 35% complete for evol2_R2.fastq.gz\n",
      "Approx 40% complete for evol2_R2.fastq.gz\n",
      "Approx 45% complete for evol2_R2.fastq.gz\n",
      "Approx 50% complete for evol2_R2.fastq.gz\n",
      "Approx 55% complete for evol2_R2.fastq.gz\n",
      "Approx 60% complete for evol2_R2.fastq.gz\n",
      "Approx 65% complete for evol2_R2.fastq.gz\n",
      "Approx 70% complete for evol2_R2.fastq.gz\n",
      "Approx 75% complete for evol2_R2.fastq.gz\n",
      "Approx 80% complete for evol2_R2.fastq.gz\n",
      "Approx 85% complete for evol2_R2.fastq.gz\n",
      "Approx 90% complete for evol2_R2.fastq.gz\n",
      "Approx 95% complete for evol2_R2.fastq.gz\n"
     ]
    },
    {
     "name": "stdout",
     "output_type": "stream",
     "text": [
      "Analysis complete for evol2_R2.fastq.gz\n"
     ]
    },
    {
     "name": "stderr",
     "output_type": "stream",
     "text": [
      "\n",
      "\u001b[91m///\u001b[0m \u001b]8;id=860487;https://multiqc.info\u001b\\\u001b[1mMultiQC\u001b[0m\u001b]8;;\u001b\\ 🔍 \u001b[2mv1.23\u001b[0m\n",
      "\n",
      "\u001b[34m       file_search\u001b[0m | Search path: /home/misumi/ngs-tutorial/analysis/trimmed-fastqc\n",
      "\u001b[34m       file_search\u001b[0m | Search path: /home/misumi/ngs-tutorial/analysis/trimmed\n",
      "\u001b[2K         \u001b[34msearching\u001b[0m | \u001b[90m━━━━━━━━━━━━━━━━━━━━━━━━━━━━━━━━━━━━━━━━\u001b[0m \u001b[35m100%\u001b[0m \u001b[32m24/24\u001b[0m  4/24\u001b[0m \u001b[2mtrimmed/evol2.fastp.html\u001b[0m\n",
      "\u001b[?25h\u001b[34m             fastp\u001b[0m | Found 3 reports\n",
      "\u001b[34m            fastqc\u001b[0m | Found 6 reports\n",
      "\u001b[34m     write_results\u001b[0m | Data        : multiqc_data\n",
      "\u001b[34m     write_results\u001b[0m | Report      : multiqc_report.html\n",
      "\u001b[34m           multiqc\u001b[0m | MultiQC complete\n"
     ]
    }
   ],
   "source": [
    "%%bash\n",
    "\n",
    "# activate env\n",
    "source activate base\n",
    "conda activate qc\n",
    "cd analysis\n",
    "mkdir -p trimmed-fastqc\n",
    "\n",
    "\n",
    "for FILE in trimmed/*.fastq.gz\n",
    "do\n",
    "  \n",
    "  echo \"$FILE\"\n",
    "  fastqc -o trimmed-fastqc \"$FILE\"\n",
    "done\n",
    "\n",
    "multiqc trimmed-fastqc trimmed"
   ]
  },
  {
   "cell_type": "markdown",
   "id": "6ffb4749-42e0-42b2-90ca-e74fc06cdb72",
   "metadata": {},
   "source": [
    "<h3>QC Results</h3>\n",
    "Fastqc will produce results in an HTML document that can be viewed in a browser. Browsing these results, you can observe a common error in \"Per base sequence content\". You can see a significant deviation in ACTG content in later positions, which is probably what is causing this error. All sequences would fail QC."
   ]
  }
 ],
 "metadata": {
  "kernelspec": {
   "display_name": "Python 3 (ipykernel)",
   "language": "python",
   "name": "python3"
  },
  "language_info": {
   "codemirror_mode": {
    "name": "ipython",
    "version": 3
   },
   "file_extension": ".py",
   "mimetype": "text/x-python",
   "name": "python",
   "nbconvert_exporter": "python",
   "pygments_lexer": "ipython3",
   "version": "3.10.12"
  }
 },
 "nbformat": 4,
 "nbformat_minor": 5
}
